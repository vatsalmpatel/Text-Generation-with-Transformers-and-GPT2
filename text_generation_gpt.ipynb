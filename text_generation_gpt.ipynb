{
 "cells": [
  {
   "cell_type": "markdown",
   "metadata": {},
   "source": [
    "### Imports"
   ]
  },
  {
   "cell_type": "code",
   "execution_count": 1,
   "metadata": {},
   "outputs": [
    {
     "name": "stderr",
     "output_type": "stream",
     "text": [
      "C:\\Users\\vatsa\\anaconda3\\envs\\torch\\lib\\site-packages\\tqdm\\auto.py:22: TqdmWarning: IProgress not found. Please update jupyter and ipywidgets. See https://ipywidgets.readthedocs.io/en/stable/user_install.html\n",
      "  from .autonotebook import tqdm as notebook_tqdm\n"
     ]
    }
   ],
   "source": [
    "import torch\n",
    "import numpy as np\n",
    "import matplotlib.pyplot as plt\n",
    "import pandas as pd\n",
    "from transformers import GPT2LMHeadModel, GPT2Tokenizer # Tokenzer to generate tokens from word"
   ]
  },
  {
   "cell_type": "markdown",
   "metadata": {},
   "source": [
    "### Loading the GPT2 model from Hugging Face"
   ]
  },
  {
   "cell_type": "code",
   "execution_count": 5,
   "metadata": {
    "scrolled": true
   },
   "outputs": [],
   "source": [
    "tokenizer = GPT2Tokenizer.from_pretrained('gpt2')\n",
    "model = GPT2LMHeadModel.from_pretrained('gpt2',pad_token_id = tokenizer.eos_token_id)"
   ]
  },
  {
   "cell_type": "code",
   "execution_count": 6,
   "metadata": {},
   "outputs": [
    {
     "data": {
      "text/plain": [
       "50256"
      ]
     },
     "execution_count": 6,
     "metadata": {},
     "output_type": "execute_result"
    }
   ],
   "source": [
    "tokenizer.eos_token_id"
   ]
  },
  {
   "cell_type": "code",
   "execution_count": 7,
   "metadata": {},
   "outputs": [
    {
     "data": {
      "text/plain": [
       "'<|endoftext|>'"
      ]
     },
     "execution_count": 7,
     "metadata": {},
     "output_type": "execute_result"
    }
   ],
   "source": [
    "tokenizer.decode(tokenizer.eos_token_id)"
   ]
  },
  {
   "cell_type": "code",
   "execution_count": 15,
   "metadata": {},
   "outputs": [],
   "source": [
    "tokens = tokenizer.encode('Boston is a great city',return_tensors = 'pt')"
   ]
  },
  {
   "cell_type": "code",
   "execution_count": 16,
   "metadata": {},
   "outputs": [
    {
     "data": {
      "text/plain": [
       "tensor([[31710,   318,   257,  1049,  1748]])"
      ]
     },
     "execution_count": 16,
     "metadata": {},
     "output_type": "execute_result"
    }
   ],
   "source": [
    "tokens"
   ]
  },
  {
   "cell_type": "code",
   "execution_count": 17,
   "metadata": {},
   "outputs": [
    {
     "data": {
      "text/plain": [
       "'Boston is a great city'"
      ]
     },
     "execution_count": 17,
     "metadata": {},
     "output_type": "execute_result"
    }
   ],
   "source": [
    "tokenizer.decode(tokens[0])"
   ]
  },
  {
   "cell_type": "markdown",
   "metadata": {},
   "source": [
    "### Generate and Decode text"
   ]
  },
  {
   "cell_type": "code",
   "execution_count": 44,
   "metadata": {},
   "outputs": [],
   "source": [
    "inputs = tokenizer.encode('No Code Needs to Adapt to Specialists',return_tensors = 'pt')\n",
    "out = model.generate(inputs,max_length = 500,num_beams = 5, no_repeat_ngram_size = 2, early_stopping = True)"
   ]
  },
  {
   "cell_type": "code",
   "execution_count": 45,
   "metadata": {},
   "outputs": [
    {
     "data": {
      "text/plain": [
       "tensor([[ 2949,  6127, 36557,   284, 30019,   284,  6093,  1023,     6, 36557,\n",
       "           198,   198,   464,   471,    13,    50,    13,  2732,   286,  3893,\n",
       "           290,  5524,  6168,   357,    39,  7998,     8,   468,  4884, 11154,\n",
       "           319,   703,   284,  6068,   262, 19258,  7276,  2191,   357, 26576,\n",
       "             8,   284,   262,  2476,   286,  2041,  2476,  3871,    13,   383,\n",
       "         11154,   318,  1695,   379,  2638,  1378,  2503,    13,    71, 11994,\n",
       "            13,  9567,    14, 13948,    12,   392,    12, 10734,    12, 30416,\n",
       "            14, 20887,    12, 50032,    12, 23065,    82,    14,  9630,    13,\n",
       "          6494,    13,   632,   318,  1912,   319,   262, 10763,   286,   262,\n",
       "         22223,   329, 17344,  6779,   290, 18313,   357, 47667,     8,   290,\n",
       "           262,  2351,  3337,   329,  3893, 14370,   357,    45,  3398,    50,\n",
       "           737,   383, 20434, 20829,   326,   477,  1535,  1337,  9549,   287,\n",
       "           262,  1578,  1829,    11,  1390, 11301,    11, 21434,    11, 19167,\n",
       "          5682,    11,   290,   584,  1535,  7291,    11,  2148,  1535,  5096,\n",
       "          5197,   284,   477,  3871,   508,   389,   379,  2526,   286,  5033,\n",
       "         32736,   393,   739, 28409,    13,   554,  3090,   284,  4955,  5197,\n",
       "           329, 32736,  3871,    11,   262, 27628,   635,  4433,  1535,  3352,\n",
       "           284,  3002,  1728, 37197,  1535,  2594,    11,   884,   355, 13418,\n",
       "         26836,    11,  2910,  3833, 41377,    11, 18759, 14135,    11, 12593,\n",
       "         14135,   290,  2910,  7543,  9904,    11,   355,   880,   355,  1728,\n",
       "           584, 37197,  2594,    13,  2312,  2594,   389,  5017,   739,   262,\n",
       "          1981, 14598,    11,   543,   318,   257,  2717,  1099,   326,  4433,\n",
       "           477,  3399,   284,  5001,  5096,   832,   262,  2717,  1230,    13,\n",
       "          2102,    11,   617,  2585,   290,  1957,   871,   466,   407,  2421,\n",
       "          5197,   286,   777,  2594,   287,  1502,   284, 11997,   351,   262,\n",
       "         14598,    13,  1114,  1672,    11,   287,   968,  1971,  2254,    11,\n",
       "           257,  1748,   351,   257,  3265,   286,   352,    13,    20,  1510,\n",
       "            11,   340,   318,   407,  2672,   284,  2148,  5096,   284, 32736,\n",
       "          5085,   286,   326,  1748,    13,   770,  1724,   326,   611,   257,\n",
       "          1048,   318, 32736,    11,   339,   393,   673,   481,   407,   307,\n",
       "          1498,   284,  7330,  5197,   832,   465,   393,   607,  1957,  1535,\n",
       "          1410,    13,  1081,   257,  1255,    11,   867,   968, 38244,   481,\n",
       "           307,  5906,   284,  5368,   284,  1414,   329,   511,   898,  3315,\n",
       "          1337,    13, 12032,    11,   612,   318,   645,  2717, 14598,   326,\n",
       "          1535, 24668,  3002, 37197,  1337,    11,   523,   867,   661,   481,\n",
       "           423,   284,  8814,   319,  2839,  5096,  2706,   284,   466,   523,\n",
       "            13, 11399,    11,   780,   867,  2585,   423,   407,  1865,  9177,\n",
       "           262, 33568,   287,  1295,    11,   484,   743,   407,   423,   262,\n",
       "          4133,   284,  3494,   606,   287,   477,   286,   511,  2585,    13,\n",
       "          8447,    11,  2585,   326,   423,  1541,  9177,   777, 33568,   743,\n",
       "           423,   257,  2408,   640, 15427,   606,   780,   484,   423,  3614,\n",
       "          4133,   290,   389,   407,  5597,   284,  1826,   262,  5359,   329,\n",
       "          5197,    13,  2773,  2585,    11,  2158,    11,   389,  1541, 15427,\n",
       "           777,  5359,   287,   617,  1296,    13,   317,  1271,   286,  2585,\n",
       "           389,  3058, 15427,   262,  8617,   287,   511,  1981,  5096,  3352,\n",
       "            11,   475,   612,   389,   645,  3352,  1695,   287,   749,   286,\n",
       "           883,  2585,   329,  3925,   351,   662,    12, 25687,  3315,  3403,\n",
       "           357,    47,  8905,    82,   737,   554,   617,  2663,    11,   777,\n",
       "          3352,   743,   307,  1695,   691,   284,  3925,   508,   423,   587,\n",
       "         14641,   355,  1719,   350,  8905,  3161,   284,  3269,   352,    11]])"
      ]
     },
     "execution_count": 45,
     "metadata": {},
     "output_type": "execute_result"
    }
   ],
   "source": [
    "out"
   ]
  },
  {
   "cell_type": "code",
   "execution_count": 46,
   "metadata": {},
   "outputs": [
    {
     "data": {
      "text/plain": [
       "\"No Code Needs to Adapt to Specialists' Needs\\n\\nThe U.S. Department of Health and Human Services (HHS) has issued guidance on how to adapt the Affordable Care Act (ACA) to the needs of special needs patients. The guidance is available at http://www.hhs.gov/health-and-human-services/special-needs-programs/index.html. It is based on the recommendations of the Centers for Disease Control and Prevention (CDC) and the National Center for Health Statistics (NCHS). The CDC recommends that all health care providers in the United States, including hospitals, clinics, nursing homes, and other health facilities, provide health insurance coverage to all patients who are at risk of becoming uninsured or underinsured. In addition to providing coverage for uninsured patients, the ACA also requires health plans to cover certain preventive health services, such as mammograms, blood pressure screenings, cholesterol screening, diabetes screening and blood sugar monitoring, as well as certain other preventive services. These services are covered under the individual mandate, which is a federal law that requires all Americans to purchase insurance through the federal government. However, some states and localities do not require coverage of these services in order to comply with the mandate. For example, in New York City, a city with a population of 1.5 million, it is not required to provide insurance to uninsured residents of that city. This means that if a person is uninsured, he or she will not be able to obtain coverage through his or her local health plan. As a result, many New Yorkers will be unable to afford to pay for their own medical care. Additionally, there is no federal mandate that health insurers cover preventive care, so many people will have to rely on private insurance companies to do so. Furthermore, because many states have not yet implemented the mandates in place, they may not have the resources to implement them in all of their states. Therefore, states that have already implemented these mandates may have a difficult time implementing them because they have limited resources and are not prepared to meet the requirements for coverage. Some states, however, are already implementing these requirements in some form. A number of states are currently implementing the provisions in their individual insurance plans, but there are no plans available in most of those states for individuals with pre-existing medical conditions (PEPs). In some cases, these plans may be available only to individuals who have been diagnosed as having PEP prior to January 1,\""
      ]
     },
     "execution_count": 46,
     "metadata": {},
     "output_type": "execute_result"
    }
   ],
   "source": [
    "tokenizer.decode(out[0], skip_special_tokens = True)"
   ]
  }
 ],
 "metadata": {
  "kernelspec": {
   "display_name": "Torch",
   "language": "python",
   "name": "torch"
  },
  "language_info": {
   "codemirror_mode": {
    "name": "ipython",
    "version": 3
   },
   "file_extension": ".py",
   "mimetype": "text/x-python",
   "name": "python",
   "nbconvert_exporter": "python",
   "pygments_lexer": "ipython3",
   "version": "3.7.11"
  }
 },
 "nbformat": 4,
 "nbformat_minor": 4
}
